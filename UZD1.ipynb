{
 "cells": [
  {
   "cell_type": "markdown",
   "metadata": {},
   "source": [
    "## Reguliariosios išraiškos"
   ]
  },
  {
   "cell_type": "markdown",
   "metadata": {},
   "source": [
    "#### Importuokite Reguliariosioms išraiškoms tvarkyti skirtą Python biblioteką"
   ]
  },
  {
   "cell_type": "code",
   "execution_count": 3,
   "metadata": {},
   "outputs": [],
   "source": [
    "import re"
   ]
  },
  {
   "cell_type": "markdown",
   "metadata": {},
   "source": [
    "#### 1. Surastkite visus skaitmenis esančius šiame tekste"
   ]
  },
  {
   "cell_type": "code",
   "execution_count": 19,
   "metadata": {
    "scrolled": true
   },
   "outputs": [
    {
     "name": "stdout",
     "output_type": "stream",
     "text": [
      "['1970', '1975', '1978', '1978', '1976', '1977', '1979', '1981']\n"
     ]
    }
   ],
   "source": [
    "tekstas=\"During the 1970s, many programmers began to write conceptual ontologies, which structured real-world information into computer-understandable data. Examples are MARGIE (Schank, 1975), SAM (Cullingford, 1978), PAM (Wilensky, 1978), TaleSpin (Meehan, 1976), QUALM (Lehnert, 1977), Politics (Carbonell, 1979), and Plot Units (Lehnert 1981). During this time, the first many chatterbots were written (e.g., PARRY).\"\n",
    "# įveskite savo kodą čia\n",
    "skaiciai = re.findall(r'\\d+', tekstas)"
   ]
  },
  {
   "cell_type": "markdown",
   "metadata": {},
   "source": [
    "#### 2. Suraskite visus simbolius tik ne skaitmenis esančius nurodytame tekste"
   ]
  },
  {
   "cell_type": "code",
   "execution_count": 28,
   "metadata": {},
   "outputs": [
    {
     "name": "stdout",
     "output_type": "stream",
     "text": [
      "['During the ', 's, many programmers began to write conceptual ontologies, which structured real-world information into computer-understandable data. Examples are MARGIE (Schank, ', '), SAM (Cullingford, ', '), PAM (Wilensky, ', '), TaleSpin (Meehan, ', '), QUALM (Lehnert, ', '), Politics (Carbonell, ', '), and Plot Units (Lehnert ', '). During this time, the first many chatterbots were written (e.g., PARRY).']\n"
     ]
    }
   ],
   "source": [
    "tekstas=\"During the 1970s, many programmers began to write conceptual ontologies, which structured real-world information into computer-understandable data. Examples are MARGIE (Schank, 1975), SAM (Cullingford, 1978), PAM (Wilensky, 1978), TaleSpin (Meehan, 1976), QUALM (Lehnert, 1977), Politics (Carbonell, 1979), and Plot Units (Lehnert 1981). During this time, the first many chatterbots were written (e.g., PARRY).\"\n",
    "# įveskite savo kodą čia\n",
    "zodziai = re.findall(r'\\D+', tekstas)\n",
    "print(zodziai)"
   ]
  },
  {
   "cell_type": "markdown",
   "metadata": {},
   "source": [
    "#### 3. Suraskite visus skyrybos ženklus esančius nurodytame tekste"
   ]
  },
  {
   "cell_type": "code",
   "execution_count": 37,
   "metadata": {},
   "outputs": [
    {
     "name": "stdout",
     "output_type": "stream",
     "text": [
      "['.', ',', '!', '?']\n"
     ]
    }
   ],
   "source": [
    "tekstas=\"Sveiki. Šaunu, kad susirinkote!?\"\n",
    "# įveskite savo kodą čia\n",
    "simboliai = re.findall(r'[^\\w\\s]', tekstas)\n",
    "print(simboliai)"
   ]
  },
  {
   "cell_type": "markdown",
   "metadata": {},
   "source": [
    "#### 4. Iš teksto pašalinkite skyrybos ženklus. "
   ]
  },
  {
   "cell_type": "code",
   "execution_count": 5,
   "metadata": {},
   "outputs": [
    {
     "name": "stdout",
     "output_type": "stream",
     "text": [
      "Sveiki. Šaunu, kad susirinkote!?\n"
     ]
    }
   ],
   "source": [
    "tekstas=\"Sveiki. Šaunu, kad susirinkote!?\"\n",
    "# įveskite savo kodą čia\n",
    "gautas = re.sub(r'\\W+', ' ', tekstas)\n",
    "print(gautas)"
   ]
  },
  {
   "cell_type": "markdown",
   "metadata": {},
   "source": [
    "#### 5. Iš teksto pašalinkite tarpus"
   ]
  },
  {
   "cell_type": "code",
   "execution_count": 45,
   "metadata": {},
   "outputs": [
    {
     "name": "stdout",
     "output_type": "stream",
     "text": [
      "Sveiki.Šaunu,kadsusirinkote!?\n"
     ]
    }
   ],
   "source": [
    "tekstas=\"Sveiki. Šaunu, kad susirinkote!?\"\n",
    "# įveskite savo kodą čia\n",
    "gautas = re.sub(r'\\s', '', tekstas)\n",
    "print(gautas)"
   ]
  },
  {
   "cell_type": "markdown",
   "metadata": {},
   "source": [
    "#### 6. Pateiktame tekste suraskite  visus žodžius su brūkšneliu"
   ]
  },
  {
   "cell_type": "code",
   "execution_count": 51,
   "metadata": {},
   "outputs": [
    {
     "name": "stdout",
     "output_type": "stream",
     "text": [
      "['1-osios', '3-osios']\n"
     ]
    }
   ],
   "source": [
    "tekstas=\"Paskelbti 1-osios ir 3-osios vietų laimėtojai\"\n",
    "# įveskite savo kodą čia\n",
    "gautas = re.findall(r'\\w+-\\w+', tekstas)\n",
    "print(gautas)"
   ]
  },
  {
   "cell_type": "markdown",
   "metadata": {},
   "source": [
    "#### 7. Pateikite visus tekste esančius elektroninio pašto adresus"
   ]
  },
  {
   "cell_type": "code",
   "execution_count": 53,
   "metadata": {},
   "outputs": [
    {
     "name": "stdout",
     "output_type": "stream",
     "text": [
      "['info@mano', 'uzdaviniai@mano', 'pagalba@mano']\n"
     ]
    }
   ],
   "source": [
    "tekstas=\"Sveiki, visas bendras užklausas siųskite adresu info@mano.lt. Jei turite klausimų, susijusių su uždavinių sprendimu, siųskite juos adresu uzdaviniai@mano.lt. Dėl techninių problemų kreipkitės adresu pagalba@mano.lt.\"\n",
    "# įveskite savo kodą čia\n",
    "gautas = re.findall(r'\\w+@\\w+', tekstas)\n",
    "print(gautas)"
   ]
  },
  {
   "cell_type": "markdown",
   "metadata": {},
   "source": [
    "#### 8. Iš 7-me uždavinyje gautų el. pašto adresų gaukite visus vartotojų  vardus."
   ]
  },
  {
   "cell_type": "code",
   "execution_count": 57,
   "metadata": {
    "scrolled": false
   },
   "outputs": [
    {
     "name": "stdout",
     "output_type": "stream",
     "text": [
      "['info', 'uzdaviniai', 'pagalba']\n"
     ]
    }
   ],
   "source": [
    "tekstas=\"info@mano uzdaviniai@mano pagalba@mano\"\n",
    "# įveskite savo kodą čia\n",
    "gautas = re.findall(r'\\b\\w+(?=@)', tekstas)\n",
    "print(gautas)"
   ]
  }
 ],
 "metadata": {
  "kernelspec": {
   "display_name": "Python 3 (ipykernel)",
   "language": "python",
   "name": "python3"
  },
  "language_info": {
   "codemirror_mode": {
    "name": "ipython",
    "version": 3
   },
   "file_extension": ".py",
   "mimetype": "text/x-python",
   "name": "python",
   "nbconvert_exporter": "python",
   "pygments_lexer": "ipython3",
   "version": "3.8.19"
  }
 },
 "nbformat": 4,
 "nbformat_minor": 2
}
