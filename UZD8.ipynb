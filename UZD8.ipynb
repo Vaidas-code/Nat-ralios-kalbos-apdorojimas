{
 "cells": [
  {
   "cell_type": "code",
   "execution_count": 1,
   "id": "00fe5a5e",
   "metadata": {},
   "outputs": [
    {
     "name": "stdout",
     "output_type": "stream",
     "text": [
      "\n",
      "VADER metrikos:\n",
      "Tikslumas (accuracy): 0.8\n",
      "Preciziškumas (precision): 0.5555555555555555\n",
      "Atkūrimas (recall): 0.6666666666666666\n",
      "F1-metrika: 0.6\n",
      "\n",
      "TextBlob metrikos:\n",
      "Tikslumas (accuracy): 0.8\n",
      "Preciziškumas (precision): 0.5555555555555555\n",
      "Atkūrimas (recall): 0.6666666666666666\n",
      "F1-metrika: 0.6\n",
      "\n",
      "Duomenų lentelė su sentimentų balais ir etiketėmis:\n",
      "                                     text     label  vader_pos  vader_neu  \\\n",
      "0                    I love this product!  positive      0.600      0.400   \n",
      "1      This is the worst experience ever.  negative      0.000      0.549   \n",
      "2  It's okay, not great but not terrible.   neutral      0.437      0.366   \n",
      "3   Fantastic quality and quick delivery!  positive      0.493      0.507   \n",
      "4   I'm not satisfied with this purchase.  negative      0.000      0.682   \n",
      "\n",
      "   vader_neg  vader_compound vader_sentiment  textblob_polarity  \\\n",
      "0      0.000          0.6696        positive           0.625000   \n",
      "1      0.451         -0.6249        negative          -1.000000   \n",
      "2      0.196          0.3887        positive           0.200000   \n",
      "3      0.000          0.5983        positive           0.408333   \n",
      "4      0.318         -0.3252        negative          -0.250000   \n",
      "\n",
      "  textblob_sentiment  \n",
      "0           positive  \n",
      "1           negative  \n",
      "2           positive  \n",
      "3           positive  \n",
      "4           negative  \n"
     ]
    }
   ],
   "source": [
    "import pandas as pd\n",
    "from vaderSentiment.vaderSentiment import SentimentIntensityAnalyzer\n",
    "from textblob import TextBlob\n",
    "from sklearn.metrics import accuracy_score, precision_score, recall_score, f1_score\n",
    "\n",
    "data = [\n",
    "    {\"text\": \"I love this product!\", \"label\": \"positive\"},\n",
    "    {\"text\": \"This is the worst experience ever.\", \"label\": \"negative\"},\n",
    "    {\"text\": \"It's okay, not great but not terrible.\", \"label\": \"neutral\"},\n",
    "    {\"text\": \"Fantastic quality and quick delivery!\", \"label\": \"positive\"},\n",
    "    {\"text\": \"I'm not satisfied with this purchase.\", \"label\": \"negative\"}\n",
    "]\n",
    "\n",
    "df = pd.DataFrame(data)\n",
    "\n",
    "vader_analyzer = SentimentIntensityAnalyzer()\n",
    "\n",
    "df[\"vader_pos\"] = df[\"text\"].apply(lambda x: vader_analyzer.polarity_scores(x)[\"pos\"])\n",
    "df[\"vader_neu\"] = df[\"text\"].apply(lambda x: vader_analyzer.polarity_scores(x)[\"neu\"])\n",
    "df[\"vader_neg\"] = df[\"text\"].apply(lambda x: vader_analyzer.polarity_scores(x)[\"neg\"])\n",
    "df[\"vader_compound\"] = df[\"text\"].apply(lambda x: vader_analyzer.polarity_scores(x)[\"compound\"])\n",
    "\n",
    "df[\"vader_sentiment\"] = df[\"vader_compound\"].apply(lambda x: \"positive\" if x >= 0.05 else (\"negative\" if x <= -0.05 else \"neutral\"))\n",
    "\n",
    "df[\"textblob_polarity\"] = df[\"text\"].apply(lambda x: TextBlob(x).sentiment.polarity)\n",
    "\n",
    "df[\"textblob_sentiment\"] = df[\"textblob_polarity\"].apply(lambda x: \"positive\" if x > 0 else (\"negative\" if x < 0 else \"neutral\"))\n",
    "\n",
    "def spausdinti_metrikas(modelio_pavadinimas, tikros, prognozuotos):\n",
    "    print(f\"\\n{modelio_pavadinimas} metrikos:\")\n",
    "    print(\"Tikslumas (accuracy):\", accuracy_score(tikros, prognozuotos))\n",
    "    print(\"Preciziškumas (precision):\", precision_score(tikros, prognozuotos, average=\"macro\", zero_division=0))\n",
    "    print(\"Atkūrimas (recall):\", recall_score(tikros, prognozuotos, average=\"macro\", zero_division=0))\n",
    "    print(\"F1-metrika:\", f1_score(tikros, prognozuotos, average=\"macro\", zero_division=0))\n",
    "\n",
    "tikros_etiketes = df[\"label\"]\n",
    "\n",
    "spausdinti_metrikas(\"VADER\", tikros_etiketes, df[\"vader_sentiment\"])\n",
    "\n",
    "spausdinti_metrikas(\"TextBlob\", tikros_etiketes, df[\"textblob_sentiment\"])\n",
    "\n",
    "print(\"\\nDuomenų lentelė su sentimentų balais ir etiketėmis:\")\n",
    "print(df)\n",
    "\n"
   ]
  },
  {
   "cell_type": "code",
   "execution_count": null,
   "id": "621901a7",
   "metadata": {},
   "outputs": [],
   "source": []
  }
 ],
 "metadata": {
  "kernelspec": {
   "display_name": "Python [conda env:nlp_vu] *",
   "language": "python",
   "name": "conda-env-nlp_vu-py"
  },
  "language_info": {
   "codemirror_mode": {
    "name": "ipython",
    "version": 3
   },
   "file_extension": ".py",
   "mimetype": "text/x-python",
   "name": "python",
   "nbconvert_exporter": "python",
   "pygments_lexer": "ipython3",
   "version": "3.8.19"
  }
 },
 "nbformat": 4,
 "nbformat_minor": 5
}
