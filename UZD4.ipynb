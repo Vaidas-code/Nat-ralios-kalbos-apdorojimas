{
 "cells": [
  {
   "cell_type": "markdown",
   "metadata": {},
   "source": [
    "#### <font color=\"red\"> Uždavinių atlikimui naudokite tekstą esantį dokumente `tekstas2.txt`. </font>"
   ]
  },
  {
   "cell_type": "markdown",
   "metadata": {},
   "source": [
    "#### 1. Atspausdinkite pirmas tris įvardytas esybes, esančias tekste.¶"
   ]
  },
  {
   "cell_type": "code",
   "execution_count": 23,
   "metadata": {},
   "outputs": [
    {
     "name": "stdout",
     "output_type": "stream",
     "text": [
      "The Faculty of Mathematics and Informatics of Vilnius University\n",
      "four\n",
      "Data Science\n"
     ]
    }
   ],
   "source": [
    "import spacy\n",
    "\n",
    "nlp = spacy.load('en_core_web_sm')\n",
    "\n",
    "with open('tekstas2.txt', 'r', encoding='utf-8') as file:\n",
    "    tekstas = file.read()\n",
    "\n",
    "doc = nlp(tekstas)\n",
    "\n",
    "esybes = list(doc.ents)[:3]\n",
    "\n",
    "for esybe in esybes:\n",
    "    print(esybe.text)\n"
   ]
  },
  {
   "cell_type": "markdown",
   "metadata": {},
   "source": [
    "#### 2. Vizualizuokite ketvirto sakinio įvardytas esybes. "
   ]
  },
  {
   "cell_type": "code",
   "execution_count": 2,
   "metadata": {},
   "outputs": [
    {
     "data": {
      "text/html": [
       "<span class=\"tex2jax_ignore\"><div class=\"entities\" style=\"line-height: 2.5; direction: ltr\">As of \n",
       "<mark class=\"entity\" style=\"background: #bfe1d9; padding: 0.45em 0.6em; margin: 0 0.25em; line-height: 1; border-radius: 0.35em;\">\n",
       "    May 2018\n",
       "    <span style=\"font-size: 0.8em; font-weight: bold; line-height: 1; border-radius: 0.35em; vertical-align: middle; margin-left: 0.5rem\">DATE</span>\n",
       "</mark>\n",
       ", the Dean of the Faculty is Associate Professor Paulius \n",
       "<mark class=\"entity\" style=\"background: #aa9cfc; padding: 0.45em 0.6em; margin: 0 0.25em; line-height: 1; border-radius: 0.35em;\">\n",
       "    Drungilas\n",
       "    <span style=\"font-size: 0.8em; font-weight: bold; line-height: 1; border-radius: 0.35em; vertical-align: middle; margin-left: 0.5rem\">PERSON</span>\n",
       "</mark>\n",
       ", a long-time academic at \n",
       "<mark class=\"entity\" style=\"background: #7aecec; padding: 0.45em 0.6em; margin: 0 0.25em; line-height: 1; border-radius: 0.35em;\">\n",
       "    Vilnius University\n",
       "    <span style=\"font-size: 0.8em; font-weight: bold; line-height: 1; border-radius: 0.35em; vertical-align: middle; margin-left: 0.5rem\">ORG</span>\n",
       "</mark>\n",
       " and \n",
       "<mark class=\"entity\" style=\"background: #e4e7d2; padding: 0.45em 0.6em; margin: 0 0.25em; line-height: 1; border-radius: 0.35em;\">\n",
       "    one\n",
       "    <span style=\"font-size: 0.8em; font-weight: bold; line-height: 1; border-radius: 0.35em; vertical-align: middle; margin-left: 0.5rem\">CARDINAL</span>\n",
       "</mark>\n",
       " of the \n",
       "<mark class=\"entity\" style=\"background: #7aecec; padding: 0.45em 0.6em; margin: 0 0.25em; line-height: 1; border-radius: 0.35em;\">\n",
       "    University\n",
       "    <span style=\"font-size: 0.8em; font-weight: bold; line-height: 1; border-radius: 0.35em; vertical-align: middle; margin-left: 0.5rem\">ORG</span>\n",
       "</mark>\n",
       "’s youngest professors. </div></span>"
      ],
      "text/plain": [
       "<IPython.core.display.HTML object>"
      ]
     },
     "metadata": {},
     "output_type": "display_data"
    }
   ],
   "source": [
    "import spacy\n",
    "from spacy import displacy\n",
    "\n",
    "nlp = spacy.load('en_core_web_sm')\n",
    "\n",
    "with open('tekstas2.txt', 'r', encoding='utf-8') as file:\n",
    "    tekstas = file.read()\n",
    "\n",
    "doc = nlp(tekstas)\n",
    "\n",
    "sakiniai = list(doc.sents)\n",
    "ketvirtas_sakinys = sakiniai[3]\n",
    "\n",
    "displacy.render(ketvirtas_sakinys, style=\"ent\", jupyter=True)\n"
   ]
  },
  {
   "cell_type": "markdown",
   "metadata": {},
   "source": [
    "#### <font color=\"red\"> 3 ir 4 uždavinių atlikimui naudokite tekstą esantį dokumente `tekstas3.pdf`. </font>"
   ]
  },
  {
   "cell_type": "markdown",
   "metadata": {},
   "source": [
    "#### 3. Vizualizuokite įvardytas estybes, kurių žyma yra \"ORG\""
   ]
  },
  {
   "cell_type": "code",
   "execution_count": 26,
   "metadata": {},
   "outputs": [
    {
     "data": {
      "text/html": [
       "<span class=\"tex2jax_ignore\"><div class=\"entities\" style=\"line-height: 2.5; direction: ltr\">\n",
       "<mark class=\"entity\" style=\"background: #7aecec; padding: 0.45em 0.6em; margin: 0 0.25em; line-height: 1; border-radius: 0.35em;\">\n",
       "    Vilnius University\n",
       "    <span style=\"font-size: 0.8em; font-weight: bold; line-height: 1; border-radius: 0.35em; vertical-align: middle; margin-left: 0.5rem\">ORG</span>\n",
       "</mark>\n",
       " </div>\n",
       "\n",
       "<div class=\"entities\" style=\"line-height: 2.5; direction: ltr\">\n",
       "<mark class=\"entity\" style=\"background: #7aecec; padding: 0.45em 0.6em; margin: 0 0.25em; line-height: 1; border-radius: 0.35em;\">\n",
       "    the Jesuit \n",
       "Academy (College\n",
       "    <span style=\"font-size: 0.8em; font-weight: bold; line-height: 1; border-radius: 0.35em; vertical-align: middle; margin-left: 0.5rem\">ORG</span>\n",
       "</mark>\n",
       "</div>\n",
       "\n",
       "<div class=\"entities\" style=\"line-height: 2.5; direction: ltr\">\n",
       "<mark class=\"entity\" style=\"background: #7aecec; padding: 0.45em 0.6em; margin: 0 0.25em; line-height: 1; border-radius: 0.35em;\">\n",
       "    the Cracow \n",
       "Academy\n",
       "    <span style=\"font-size: 0.8em; font-weight: bold; line-height: 1; border-radius: 0.35em; vertical-align: middle; margin-left: 0.5rem\">ORG</span>\n",
       "</mark>\n",
       " </div>\n",
       "\n",
       "<div class=\"entities\" style=\"line-height: 2.5; direction: ltr\">\n",
       "<mark class=\"entity\" style=\"background: #7aecec; padding: 0.45em 0.6em; margin: 0 0.25em; line-height: 1; border-radius: 0.35em;\">\n",
       "    Commonwealth\n",
       "    <span style=\"font-size: 0.8em; font-weight: bold; line-height: 1; border-radius: 0.35em; vertical-align: middle; margin-left: 0.5rem\">ORG</span>\n",
       "</mark>\n",
       "</div>\n",
       "\n",
       "<div class=\"entities\" style=\"line-height: 2.5; direction: ltr\">\n",
       "<mark class=\"entity\" style=\"background: #7aecec; padding: 0.45em 0.6em; margin: 0 0.25em; line-height: 1; border-radius: 0.35em;\">\n",
       "    Polis h Stefan Batory University\n",
       "    <span style=\"font-size: 0.8em; font-weight: bold; line-height: 1; border-radius: 0.35em; vertical-align: middle; margin-left: 0.5rem\">ORG</span>\n",
       "</mark>\n",
       " </div>\n",
       "\n",
       "<div class=\"entities\" style=\"line-height: 2.5; direction: ltr\">\n",
       "<mark class=\"entity\" style=\"background: #7aecec; padding: 0.45em 0.6em; margin: 0 0.25em; line-height: 1; border-radius: 0.35em;\">\n",
       "    Operation Barbarossa\n",
       "    <span style=\"font-size: 0.8em; font-weight: bold; line-height: 1; border-radius: 0.35em; vertical-align: middle; margin-left: 0.5rem\">ORG</span>\n",
       "</mark>\n",
       "</div>\n",
       "\n",
       "<div class=\"entities\" style=\"line-height: 2.5; direction: ltr\">\n",
       "<mark class=\"entity\" style=\"background: #7aecec; padding: 0.45em 0.6em; margin: 0 0.25em; line-height: 1; border-radius: 0.35em;\">\n",
       "    the Vilnius State University\n",
       "    <span style=\"font-size: 0.8em; font-weight: bold; line-height: 1; border-radius: 0.35em; vertical-align: middle; margin-left: 0.5rem\">ORG</span>\n",
       "</mark>\n",
       "</div>\n",
       "\n",
       "<div class=\"entities\" style=\"line-height: 2.5; direction: ltr\">\n",
       "<mark class=\"entity\" style=\"background: #7aecec; padding: 0.45em 0.6em; margin: 0 0.25em; line-height: 1; border-radius: 0.35em;\">\n",
       "    Stefan Batory University\n",
       "    <span style=\"font-size: 0.8em; font-weight: bold; line-height: 1; border-radius: 0.35em; vertical-align: middle; margin-left: 0.5rem\">ORG</span>\n",
       "</mark>\n",
       " </div>\n",
       "\n",
       "<div class=\"entities\" style=\"line-height: 2.5; direction: ltr\">\n",
       "<mark class=\"entity\" style=\"background: #7aecec; padding: 0.45em 0.6em; margin: 0 0.25em; line-height: 1; border-radius: 0.35em;\">\n",
       "    Nicolau s Copernicus University\n",
       "    <span style=\"font-size: 0.8em; font-weight: bold; line-height: 1; border-radius: 0.35em; vertical-align: middle; margin-left: 0.5rem\">ORG</span>\n",
       "</mark>\n",
       " </div>\n",
       "\n",
       "<div class=\"entities\" style=\"line-height: 2.5; direction: ltr\">\n",
       "<mark class=\"entity\" style=\"background: #7aecec; padding: 0.45em 0.6em; margin: 0 0.25em; line-height: 1; border-radius: 0.35em;\">\n",
       "    Vilnius University\n",
       "    <span style=\"font-size: 0.8em; font-weight: bold; line-height: 1; border-radius: 0.35em; vertical-align: middle; margin-left: 0.5rem\">ORG</span>\n",
       "</mark>\n",
       " </div>\n",
       "\n",
       "<div class=\"entities\" style=\"line-height: 2.5; direction: ltr\">\n",
       "<mark class=\"entity\" style=\"background: #7aecec; padding: 0.45em 0.6em; margin: 0 0.25em; line-height: 1; border-radius: 0.35em;\">\n",
       "    University\n",
       "    <span style=\"font-size: 0.8em; font-weight: bold; line-height: 1; border-radius: 0.35em; vertical-align: middle; margin-left: 0.5rem\">ORG</span>\n",
       "</mark>\n",
       "</div>\n",
       "\n",
       "<div class=\"entities\" style=\"line-height: 2.5; direction: ltr\">\n",
       "<mark class=\"entity\" style=\"background: #7aecec; padding: 0.45em 0.6em; margin: 0 0.25em; line-height: 1; border-radius: 0.35em;\">\n",
       "    the Cultural Centre, Health\n",
       "    <span style=\"font-size: 0.8em; font-weight: bold; line-height: 1; border-radius: 0.35em; vertical-align: middle; margin-left: 0.5rem\">ORG</span>\n",
       "</mark>\n",
       " </div>\n",
       "\n",
       "<div class=\"entities\" style=\"line-height: 2.5; direction: ltr\">\n",
       "<mark class=\"entity\" style=\"background: #7aecec; padding: 0.45em 0.6em; margin: 0 0.25em; line-height: 1; border-radius: 0.35em;\">\n",
       "    Vilnius University\n",
       "    <span style=\"font-size: 0.8em; font-weight: bold; line-height: 1; border-radius: 0.35em; vertical-align: middle; margin-left: 0.5rem\">ORG</span>\n",
       "</mark>\n",
       " </div>\n",
       "\n",
       "<div class=\"entities\" style=\"line-height: 2.5; direction: ltr\">\n",
       "<mark class=\"entity\" style=\"background: #7aecec; padding: 0.45em 0.6em; margin: 0 0.25em; line-height: 1; border-radius: 0.35em;\">\n",
       "    European University Alliance\n",
       "    <span style=\"font-size: 0.8em; font-weight: bold; line-height: 1; border-radius: 0.35em; vertical-align: middle; margin-left: 0.5rem\">ORG</span>\n",
       "</mark>\n",
       " </div>\n",
       "\n",
       "<div class=\"entities\" style=\"line-height: 2.5; direction: ltr\">\n",
       "<mark class=\"entity\" style=\"background: #7aecec; padding: 0.45em 0.6em; margin: 0 0.25em; line-height: 1; border-radius: 0.35em;\">\n",
       "    The Vilnius University Foundation\n",
       "    <span style=\"font-size: 0.8em; font-weight: bold; line-height: 1; border-radius: 0.35em; vertical-align: middle; margin-left: 0.5rem\">ORG</span>\n",
       "</mark>\n",
       " </div>\n",
       "\n",
       "<div class=\"entities\" style=\"line-height: 2.5; direction: ltr\">\n",
       "<mark class=\"entity\" style=\"background: #7aecec; padding: 0.45em 0.6em; margin: 0 0.25em; line-height: 1; border-radius: 0.35em;\">\n",
       "    Foundation\n",
       "    <span style=\"font-size: 0.8em; font-weight: bold; line-height: 1; border-radius: 0.35em; vertical-align: middle; margin-left: 0.5rem\">ORG</span>\n",
       "</mark>\n",
       " </div>\n",
       "\n",
       "<div class=\"entities\" style=\"line-height: 2.5; direction: ltr\">\n",
       "<mark class=\"entity\" style=\"background: #7aecec; padding: 0.45em 0.6em; margin: 0 0.25em; line-height: 1; border-radius: 0.35em;\">\n",
       "    University\n",
       "    <span style=\"font-size: 0.8em; font-weight: bold; line-height: 1; border-radius: 0.35em; vertical-align: middle; margin-left: 0.5rem\">ORG</span>\n",
       "</mark>\n",
       "</div></span>"
      ],
      "text/plain": [
       "<IPython.core.display.HTML object>"
      ]
     },
     "metadata": {},
     "output_type": "display_data"
    }
   ],
   "source": [
    "import spacy\n",
    "from spacy import displacy\n",
    "import PyPDF2\n",
    "\n",
    "def perskaityti_pdf(file_path):\n",
    "    with open(file_path, 'rb') as file:\n",
    "        reader = PyPDF2.PdfReader(file)\n",
    "        tekstas = ''\n",
    "        for page in range(len(reader.pages)):\n",
    "            tekstas += reader.pages[page].extract_text()\n",
    "    return tekstas\n",
    "\n",
    "tekstas = perskaityti_pdf('tekstas3.pdf')\n",
    "\n",
    "nlp = spacy.load('en_core_web_sm')\n",
    "doc = nlp(tekstas)\n",
    "\n",
    "org_objektas = [ent for ent in doc.ents if ent.label_ == 'ORG']\n",
    "\n",
    "displacy.render(org_objektas, style=\"ent\", jupyter=True)\n"
   ]
  },
  {
   "cell_type": "markdown",
   "metadata": {},
   "source": [
    "#### 4. Vizualizuokite trečio sakinio įvardytas esybes. Pakeiskite elementų fono spalvą bei pritaikykite gradiento efektą (spalvas parinkdami savo nuožiūra)."
   ]
  },
  {
   "cell_type": "code",
   "execution_count": 2,
   "metadata": {},
   "outputs": [
    {
     "data": {
      "text/html": [
       "<span class=\"tex2jax_ignore\"><div class=\"entities\" style=\"line-height: 2.5; direction: ltr\">The university wa s founded in \n",
       "<mark class=\"entity\" style=\"background: linear-gradient(to right, #3e8e41, #4caf50); padding: 0.45em 0.6em; margin: 0 0.25em; line-height: 1; border-radius: 0.35em;\">\n",
       "    1579\n",
       "    <span style=\"font-size: 0.8em; font-weight: bold; line-height: 1; border-radius: 0.35em; vertical-align: middle; margin-left: 0.5rem\">DATE</span>\n",
       "</mark>\n",
       " as \n",
       "<mark class=\"entity\" style=\"background: linear-gradient(to right, #2196F3, #64B5F6); padding: 0.45em 0.6em; margin: 0 0.25em; line-height: 1; border-radius: 0.35em;\">\n",
       "    the Jesuit \n",
       "Academy (College\n",
       "    <span style=\"font-size: 0.8em; font-weight: bold; line-height: 1; border-radius: 0.35em; vertical-align: middle; margin-left: 0.5rem\">ORG</span>\n",
       "</mark>\n",
       ") of \n",
       "<mark class=\"entity\" style=\"background: linear-gradient(to right, #3e8e41, #4caf50); padding: 0.45em 0.6em; margin: 0 0.25em; line-height: 1; border-radius: 0.35em;\">\n",
       "    Vilnius\n",
       "    <span style=\"font-size: 0.8em; font-weight: bold; line-height: 1; border-radius: 0.35em; vertical-align: middle; margin-left: 0.5rem\">PERSON</span>\n",
       "</mark>\n",
       " by \n",
       "<mark class=\"entity\" style=\"background: linear-gradient(to right, #3e8e41, #4caf50); padding: 0.45em 0.6em; margin: 0 0.25em; line-height: 1; border-radius: 0.35em;\">\n",
       "    Stephen Báthory\n",
       "    <span style=\"font-size: 0.8em; font-weight: bold; line-height: 1; border-radius: 0.35em; vertical-align: middle; margin-left: 0.5rem\">PERSON</span>\n",
       "</mark>\n",
       ". </div></span>"
      ],
      "text/plain": [
       "<IPython.core.display.HTML object>"
      ]
     },
     "metadata": {},
     "output_type": "display_data"
    }
   ],
   "source": [
    "import spacy\n",
    "from spacy import displacy\n",
    "import PyPDF2\n",
    "\n",
    "def perskaityti_pdf(file_path):\n",
    "    with open(file_path, 'rb') as file:\n",
    "        reader = PyPDF2.PdfReader(file)\n",
    "        tekstas = ''\n",
    "        for page in range(len(reader.pages)):\n",
    "            tekstas += reader.pages[page].extract_text()\n",
    "    return tekstas\n",
    "\n",
    "tekstas = perskaityti_pdf('tekstas3.pdf')\n",
    "\n",
    "nlp = spacy.load('en_core_web_sm')\n",
    "doc = nlp(tekstas)\n",
    "\n",
    "sakiniai = list(doc.sents)\n",
    "trecias_sakinys = sakiniai[2]\n",
    "\n",
    "def sukurti_spalvas():\n",
    "    return {\n",
    "        \"ORG\": \"linear-gradient(to right, #2196F3, #64B5F6)\", \n",
    "        \"PERSON\": \"linear-gradient(to right, #3e8e41, #4caf50)\",\n",
    "        \"DATE\": \"linear-gradient(to right, #3e8e41, #4caf50)\",\n",
    "    }\n",
    "\n",
    "# Initialize pasirinkimai as a dictionary before using it\n",
    "pasirinkimai = {}\n",
    "pasirinkimai[\"colors\"] = sukurti_spalvas()\n",
    "\n",
    "displacy.render(trecias_sakinys, style=\"ent\", options=pasirinkimai, jupyter=True)\n"
   ]
  },
  {
   "cell_type": "markdown",
   "metadata": {},
   "source": [
    "#### 5. Raskite visas datas. Naudokite naudojant tiek spaCy, tiek reguliariąsias išraiškas. "
   ]
  },
  {
   "cell_type": "code",
   "execution_count": 5,
   "metadata": {},
   "outputs": [
    {
     "name": "stdout",
     "output_type": "stream",
     "text": [
      "['2024-10-15', '2024-09-30', 'May 5, 2023', '2025-01-10', '2025-01-11', 'June 1st', 'August 2024']\n",
      "['2024-10-15', '2024-09-30', 'May 5, 2023', '2025-01-10', '2025-01-11', 'June 1st']\n"
     ]
    }
   ],
   "source": [
    "tekstas = \"\"\"The conference will take place on 2024-10-15, but registration will end on 2024-09-30. During the last meeting, which took place on May 5, 2023, a new system was introduced. We will meet next time on 2025-01-10 or 2025-01-11, depending on the number of participants. We agreed to start the project on June 1st, and the first results will be presented in August 2024.\"\"\"\n",
    "\n",
    "import spacy\n",
    "import re\n",
    "\n",
    "nlp = spacy.load('en_core_web_sm')\n",
    "\n",
    "doc = nlp(tekstas)\n",
    "spacy_datos = [ent.text for ent in doc.ents if ent.label_ == \"DATE\"]\n",
    "\n",
    "reguliarumas = r'\\b(?:\\d{4}-\\d{2}-\\d{2}|\\b(?:\\w+ \\d{1,2}(?:st|nd|rd|th)?(?:, \\d{4})?)\\b)'\n",
    "reguliarios_datos = re.findall(reguliarumas, tekstas)\n",
    "\n",
    "visos_datos = spacy_datos + reguliarios_datos\n",
    "\n",
    "unikalios_datos = set(visos_datos)\n",
    "print(spacy_datos)\n",
    "print(reguliarios_datos)"
   ]
  },
  {
   "cell_type": "markdown",
   "metadata": {},
   "source": [
    "#### 6. Raskite visas datas. Naudokite naudojant tiek spaCy, tiek reguliariąsias išraiškas."
   ]
  },
  {
   "cell_type": "code",
   "execution_count": 3,
   "metadata": {},
   "outputs": [
    {
     "name": "stdout",
     "output_type": "stream",
     "text": [
      "['2023 metų gegužės 5 dieną', 'birželio 1 d.', '2024 m. rugpjūčio mėnesį']\n",
      "['2024-10-15', '2024-09-30', '2025-01-10', '2025-01-11', 'birželio 1 d']\n"
     ]
    }
   ],
   "source": [
    "tekstas=\"Konferencija įvyks 2024-10-15, tačiau registracija baigsis 2024-09-30. Praėjusiame susitikime, kuris vyko 2023 metų gegužės 5 dieną, buvo pristatyta nauja sistema. Kitą kartą susitiksime 2025-01-10 arba 2025-01-11, priklausomai nuo dalyvių skaičiaus. Susitarėme pradėti projektą birželio 1 d., o pirmieji rezultatai bus pateikti 2024 m. rugpjūčio mėnesį.\"\n",
    "\n",
    "import spacy\n",
    "import re\n",
    "\n",
    "nlp = spacy.load('lt_core_news_sm')\n",
    "\n",
    "doc = nlp(tekstas)\n",
    "spacy_datos = [ent.text for ent in doc.ents if ent.label_ == \"TIME\"]\n",
    "\n",
    "reguliarumas = r'\\b(?:\\d{4}-\\d{2}-\\d{2}|\\d{4} metų \\w+ \\d{1,2} d\\.?|(?:\\w+ \\d{1,2} d\\.?,? \\d{4} m\\.?)|\\w+ \\d{1,2} d\\.?)\\b'\n",
    "reguliarios_datos = re.findall(reguliarumas, tekstas)\n",
    "\n",
    "visos_datos = spacy_datos + reguliarios_datos\n",
    "\n",
    "unikalios_datos = set(visos_datos)\n",
    "print(spacy_datos)\n",
    "print(reguliarios_datos)\n"
   ]
  },
  {
   "cell_type": "markdown",
   "metadata": {},
   "source": [
    "#### 7. Ppatikrinkite, ar tikriniai daiktavardžiai (pagal jų žymėjimą su POS) sutampa su geo-politinės esybės (t.y. vietovardžiais)"
   ]
  },
  {
   "cell_type": "code",
   "execution_count": 29,
   "metadata": {},
   "outputs": [
    {
     "name": "stdout",
     "output_type": "stream",
     "text": [
      "tikriniai_daiktavardziai=['John', 'London', 'Paris', 'Tokyo', 'New', 'York', 'Berlin', 'Sydney', 'São', 'Paulo', 'Madrid', 'Barcelona', 'Spain', 'Rome', 'Italy', 'Lisa', 'Toronto', 'Canada', 'San', 'Francisco', 'USA']\n",
      "geo_politines_esybes=['London', 'Paris', 'Tokyo', 'New York', 'Berlin', 'Sydney', 'Madrid', 'Barcelona', 'Spain', 'Rome', 'Italy', 'Toronto', 'Canada', 'San Francisco', 'USA']\n",
      "sutapimai={'Canada', 'Madrid', 'USA', 'Tokyo', 'Spain', 'London', 'Sydney', 'Barcelona', 'Toronto', 'Italy', 'Paris', 'Rome', 'Berlin'}\n"
     ]
    }
   ],
   "source": [
    "tekstas = \"\"\"John recently traveled from London to Paris and plans to visit Tokyo next year. The headquarters of the company is located in New York, but it has offices in Berlin, Sydney, and São Paulo. Our next business trip will take us to Madrid and Barcelona in Spain, and later to Rome in Italy. Lisa was born in Toronto, Canada, but she now lives in San Francisco, USA.\"\"\"\n",
    "\n",
    "import spacy\n",
    "\n",
    "nlp = spacy.load('en_core_web_sm')\n",
    "\n",
    "doc = nlp(tekstas)\n",
    "\n",
    "tikriniai_daiktavardziai = [token.text for token in doc if token.pos_ == \"PROPN\"]\n",
    "geo_politines_esybes = [ent.text for ent in doc.ents if ent.label_ == \"GPE\"]\n",
    "\n",
    "sutapimai = set(tikriniai_daiktavardziai) & set(geo_politines_esybes)\n",
    "\n",
    "print(f'{tikriniai_daiktavardziai=}')\n",
    "print(f'{geo_politines_esybes=}')\n",
    "print(f'{sutapimai=}')"
   ]
  },
  {
   "cell_type": "code",
   "execution_count": null,
   "metadata": {},
   "outputs": [],
   "source": []
  }
 ],
 "metadata": {
  "kernelspec": {
   "display_name": "Python 3 (ipykernel)",
   "language": "python",
   "name": "python3"
  },
  "language_info": {
   "codemirror_mode": {
    "name": "ipython",
    "version": 3
   },
   "file_extension": ".py",
   "mimetype": "text/x-python",
   "name": "python",
   "nbconvert_exporter": "python",
   "pygments_lexer": "ipython3",
   "version": "3.8.19"
  }
 },
 "nbformat": 4,
 "nbformat_minor": 2
}
