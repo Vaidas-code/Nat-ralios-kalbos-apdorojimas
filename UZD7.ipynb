{
 "cells": [
  {
   "cell_type": "markdown",
   "id": "f61f35e8",
   "metadata": {},
   "source": [
    " "
   ]
  },
  {
   "cell_type": "markdown",
   "id": "47d4ae20",
   "metadata": {},
   "source": [
    "#### 1. Nustatykite vektorinius ryšius tarp Jūsų sugalvotų dviejų sinonimų. Žodžių vektorizavimui naudokite Word2vec. Kosinusų atstumui tarp dviejų vektorių paskaičiuoti naudokite du būdus: SpaCy bibliotekos funkciją \"similarity\" ir Scipy bibliotekos funkciją \"cosine\" "
   ]
  },
  {
   "cell_type": "code",
   "execution_count": 1,
   "id": "31d809fd",
   "metadata": {},
   "outputs": [
    {
     "name": "stdout",
     "output_type": "stream",
     "text": [
      "Spacy atstumas (SpaCy): 0.053493009958043874\n",
      "Kosinusų atstumas (SciPy): 0.053493015468120575\n"
     ]
    }
   ],
   "source": [
    "import spacy\n",
    "from scipy.spatial.distance import cosine\n",
    "\n",
    "word1 = \"Sad\"\n",
    "word2 = \"Unhappy\"\n",
    "\n",
    "nlp = spacy.load(\"en_core_web_md\")\n",
    "doc1 = nlp(word1)\n",
    "doc2 = nlp(word2)\n",
    "\n",
    "similarity_spacy = doc1.similarity(doc2)\n",
    "\n",
    "vector1 = doc1.vector\n",
    "vector2 = doc2.vector\n",
    "cosine_distance = 1 - cosine(vector1, vector2)\n",
    "\n",
    "print(f\"Spacy atstumas (SpaCy): {similarity_spacy}\")\n",
    "print(f\"Kosinusų atstumas (SciPy): {cosine_distance}\")"
   ]
  },
  {
   "cell_type": "markdown",
   "id": "962729ad",
   "metadata": {},
   "source": [
    "#### 2. Nustatykite vektorinius ryšius tarp Jūsų sugalvotų dviejų antonimų. Teksto vektorizavimui naudokite TF-IDF. Dokumentų rinkinį, susidedanti iš kelių vieno sakinio tekstų sukurkite patys\""
   ]
  },
  {
   "cell_type": "code",
   "execution_count": 18,
   "id": "c25508a5",
   "metadata": {},
   "outputs": [
    {
     "name": "stdout",
     "output_type": "stream",
     "text": [
      "Cosine Similarity between 'good' and 'bad': 0.27515825225163415\n"
     ]
    }
   ],
   "source": [
    "from sklearn.feature_extraction.text import TfidfVectorizer\n",
    "from scipy.spatial.distance import cosine\n",
    "\n",
    "text_samples = [\n",
    "    \"It was a good day\",\n",
    "    \"That was a bad meeting.\",\n",
    "    \"She gave a bad advice that ended up being good\",\n",
    "]\n",
    "\n",
    "tfidf_model = TfidfVectorizer()\n",
    "tfidf_matrix = tfidf_model.fit_transform(text_samples)\n",
    "\n",
    "good_index = tfidf_model.vocabulary_[\"good\"]\n",
    "bad_index = tfidf_model.vocabulary_[\"bad\"]\n",
    "\n",
    "good_vector = tfidf_matrix[:, good_index].todense().A1\n",
    "bad_vector = tfidf_matrix[:, bad_index].todense().A1\n",
    "\n",
    "scipy_cosine_similarity = 1 - cosine(good_vector, bad_vector)\n",
    "\n",
    "print(\"Cosine Similarity between 'good' and 'bad':\", scipy_cosine_similarity)"
   ]
  },
  {
   "cell_type": "markdown",
   "id": "a9c87b1f",
   "metadata": {},
   "source": [
    "#### 3. Nustatykite vektorinius ryšius tarp 2-am uždaviniui sugalvotų dviejų antonimų. Teksto vektorizavimui naudokite TF-IDF. Naudokite vieną iš bibliotekų pateiktų pavyzdinių duomenų rinkinių (pvz. Brown corpus) "
   ]
  },
  {
   "cell_type": "code",
   "execution_count": 20,
   "id": "8df58afb",
   "metadata": {},
   "outputs": [
    {
     "name": "stderr",
     "output_type": "stream",
     "text": [
      "[nltk_data] Downloading package brown to\n",
      "[nltk_data]     C:\\Users\\Vaidas\\AppData\\Roaming\\nltk_data...\n",
      "[nltk_data]   Package brown is already up-to-date!\n"
     ]
    },
    {
     "name": "stdout",
     "output_type": "stream",
     "text": [
      "Panašumas tarp 'good' ir 'bad': 0.8524061\n"
     ]
    }
   ],
   "source": [
    "import nltk\n",
    "from sklearn.feature_extraction.text import TfidfVectorizer\n",
    "from scipy.spatial.distance import cosine\n",
    "from nltk.corpus import brown\n",
    "\n",
    "nltk.download('brown')\n",
    "\n",
    "text_samples = [' '.join(brown.words(categories=category)) for category in brown.categories()]\n",
    "\n",
    "antonym1 = \"good\"\n",
    "antonym2 = \"bad\"\n",
    "\n",
    "tfidf_model = TfidfVectorizer()\n",
    "tfidf_matrix = tfidf_model.fit_transform(text_samples)\n",
    "\n",
    "index_antonym1 = tfidf_model.vocabulary_.get(antonym1)\n",
    "index_antonym2 = tfidf_model.vocabulary_.get(antonym2)\n",
    "\n",
    "antonym1_vector = tfidf_matrix[:, index_antonym1].todense().A1 if index_antonym1 is not None else None\n",
    "antonym2_vector = tfidf_matrix[:, index_antonym2].todense().A1 if index_antonym2 is not None else None\n",
    "\n",
    "if antonym1_vector is not None and antonym2_vector is not None:\n",
    "    scipy_cosine_similarity = 1 - cosine(antonym1_vector, antonym2_vector)\n",
    "    print(f\"Panašumas tarp '{antonym1}' ir '{antonym2}': {scipy_cosine_similarity:.7f}\")\n",
    "else:\n",
    "    print(\"Vienas ar abu antonimai nerasti dokumentuose.\")\n"
   ]
  },
  {
   "cell_type": "markdown",
   "id": "2bbc1aa5",
   "metadata": {},
   "source": [
    "#### 4. Nustatykite vektorinius ryšius tarp Jūsų sugalvoto hipernimo ir jo dviejų hiponimų. Teksto vektorizavimui naudokite žodžių maišą. Rezultatą pateikite lentelės pavidalu."
   ]
  },
  {
   "cell_type": "code",
   "execution_count": 24,
   "id": "2c6c8b2c",
   "metadata": {},
   "outputs": [
    {
     "name": "stdout",
     "output_type": "stream",
     "text": [
      "Cosine Similarities:\n",
      "                   Animal (Hypernym)  Cat (Hyponym)  Dog (Hyponym)\n",
      "Animal (Hypernym)           1.000000       0.267261       0.267261\n",
      "Cat (Hyponym)               0.267261       1.000000       0.428571\n",
      "Dog (Hyponym)               0.267261       0.428571       1.000000\n"
     ]
    }
   ],
   "source": [
    "from sklearn.feature_extraction.text import CountVectorizer\n",
    "from sklearn.metrics.pairwise import cosine_similarity\n",
    "import pandas as pd\n",
    "\n",
    "documents = [\n",
    "    \"An animal is a living organism that can move.\",\n",
    "    \"A cat is a domestic animal with four legs.\",\n",
    "    \"A dog is a loyal animal with a wagging tail.\"\n",
    "]\n",
    "\n",
    "vectorizer = CountVectorizer()\n",
    "bow_matrix = vectorizer.fit_transform(documents)\n",
    "\n",
    "cosine_similarities = cosine_similarity(bow_matrix)\n",
    "\n",
    "doc_names = [\"Animal (Hypernym)\", \"Cat (Hyponym)\", \"Dog (Hyponym)\"]\n",
    "\n",
    "cosine_df = pd.DataFrame(cosine_similarities, index=doc_names, columns=doc_names)\n",
    "\n",
    "print(\"Cosine Similarities:\")\n",
    "print(cosine_df)\n",
    "\n"
   ]
  },
  {
   "cell_type": "markdown",
   "id": "989f0bbf",
   "metadata": {},
   "source": [
    "#### 5. Nustatykite vektorinius ryšius tarp Jūsų sugalvoto holonimo ir jo dviejų meronimu. Rezultatą pateikite lentelės pavidalu."
   ]
  },
  {
   "cell_type": "code",
   "execution_count": 25,
   "id": "0ae7cc2f",
   "metadata": {},
   "outputs": [
    {
     "name": "stdout",
     "output_type": "stream",
     "text": [
      "Cosine Similarities between Holonym and Meronyms:\n",
      "                  Car (Holonym)  Wheels (Meronym)  Engine (Meronym)\n",
      "Car (Holonym)          1.000000          0.261116          0.385758\n",
      "Wheels (Meronym)       0.261116          1.000000          0.241747\n",
      "Engine (Meronym)       0.385758          0.241747          1.000000\n"
     ]
    }
   ],
   "source": [
    "from sklearn.feature_extraction.text import CountVectorizer\n",
    "from sklearn.metrics.pairwise import cosine_similarity\n",
    "import pandas as pd\n",
    "\n",
    "documents = [\n",
    "    \"The car is a vehicle with many parts such as wheels and engine.\",\n",
    "    \"Wheels are circular parts that allow a car to move on roads.\",\n",
    "    \"An engine is the heart of the car, providing power to move.\"\n",
    "]\n",
    "\n",
    "vectorizer = CountVectorizer()\n",
    "bow_matrix = vectorizer.fit_transform(documents)\n",
    "\n",
    "cosine_similarities = cosine_similarity(bow_matrix)\n",
    "\n",
    "doc_names = [\"Car (Holonym)\", \"Wheels (Meronym)\", \"Engine (Meronym)\"]\n",
    "\n",
    "cosine_df = pd.DataFrame(cosine_similarities, index=doc_names, columns=doc_names)\n",
    "\n",
    "print(\"Cosine Similarities between Holonym and Meronyms:\")\n",
    "print(cosine_df)\n",
    "\n"
   ]
  }
 ],
 "metadata": {
  "kernelspec": {
   "display_name": "Python 3 (ipykernel)",
   "language": "python",
   "name": "python3"
  },
  "language_info": {
   "codemirror_mode": {
    "name": "ipython",
    "version": 3
   },
   "file_extension": ".py",
   "mimetype": "text/x-python",
   "name": "python",
   "nbconvert_exporter": "python",
   "pygments_lexer": "ipython3",
   "version": "3.8.19"
  }
 },
 "nbformat": 4,
 "nbformat_minor": 5
}
