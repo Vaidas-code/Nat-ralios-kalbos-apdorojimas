{
 "cells": [
  {
   "cell_type": "code",
   "execution_count": 3,
   "metadata": {},
   "outputs": [
    {
     "name": "stdout",
     "output_type": "stream",
     "text": [
      "Welcome to Vilnius University – the oldest and largest Lithuanian higher education institution. Since its establishment in the 16th century, Vilnius University, as integral part of European science and culture has embodied the concept­ of a classical university and the unity of studies and research. Vilnius University is an active participant in international scientific and academic activities and boasts many prominent scientists, professors and graduates. Scientific development and the expanding relations with global research centres have contributed to the variety of research and studies at Vilnius University. With the support of social partners, the university educates globally–minded specialists who successfully integrate in the modern European community.\n"
     ]
    }
   ],
   "source": [
    "tekstas=\"Welcome to Vilnius University – the oldest and largest Lithuanian higher education institution. Since its establishment in the 16th century, Vilnius University, as integral part of European science and culture has embodied the concept­ of a classical university and the unity of studies and research. Vilnius University is an active participant in international scientific and academic activities and boasts many prominent scientists, professors and graduates. Scientific development and the expanding relations with global research centres have contributed to the variety of research and studies at Vilnius University. With the support of social partners, the university educates globally–minded specialists who successfully integrate in the modern European community.\"\n",
    "print(tekstas)"
   ]
  },
  {
   "cell_type": "markdown",
   "metadata": {},
   "source": [
    "## Teksto skaidymas į teksto vienetus (angl. Tokenization)"
   ]
  },
  {
   "cell_type": "markdown",
   "metadata": {},
   "source": [
    "#### 1. Kiek žodžių ir skyrybos ženklų yra tekste?\n",
    "Apskaičiuokite naudodamiesi SpaCy biblioteka"
   ]
  },
  {
   "cell_type": "code",
   "execution_count": 5,
   "metadata": {
    "scrolled": true
   },
   "outputs": [
    {
     "name": "stdout",
     "output_type": "stream",
     "text": [
      "117\n"
     ]
    }
   ],
   "source": [
    "import spacy\n",
    "nlp = spacy.load(\"en_core_web_sm\")\n",
    "doc = nlp(tekstas)\n",
    "suma = 0\n",
    "for token in doc:\n",
    "    suma += 1;\n",
    "print(suma)"
   ]
  },
  {
   "cell_type": "markdown",
   "metadata": {},
   "source": [
    "#### 2. Kiek žodžių ir skyrybos ženklų  yra tekste?\n",
    "Apskaičiuokite naudodamiesi NLTK biblioteka"
   ]
  },
  {
   "cell_type": "code",
   "execution_count": 4,
   "metadata": {},
   "outputs": [
    {
     "name": "stdout",
     "output_type": "stream",
     "text": [
      "115\n"
     ]
    },
    {
     "name": "stderr",
     "output_type": "stream",
     "text": [
      "[nltk_data] Downloading package punkt to\n",
      "[nltk_data]     C:\\Users\\Vaidas\\AppData\\Roaming\\nltk_data...\n",
      "[nltk_data]   Package punkt is already up-to-date!\n"
     ]
    }
   ],
   "source": [
    "import nltk\n",
    "from nltk.tokenize import word_tokenize\n",
    "\n",
    "nltk.download('punkt')\n",
    "zodziai_skaitmenys = word_tokenize(tekstas)\n",
    "suma = len(zodziai_skaitmenys)\n",
    "print(suma)\n",
    "\n"
   ]
  },
  {
   "cell_type": "markdown",
   "metadata": {},
   "source": [
    "#### 3. Kiek sakinių yra tekste?\n",
    "Apskaičiuokite naudodamiesi SpaCy biblioteka"
   ]
  },
  {
   "cell_type": "code",
   "execution_count": 3,
   "metadata": {},
   "outputs": [
    {
     "name": "stdout",
     "output_type": "stream",
     "text": [
      "5\n"
     ]
    }
   ],
   "source": [
    "import spacy\n",
    "\n",
    "nlp = spacy.load(\"en_core_web_sm\")\n",
    "doc = nlp(tekstas)\n",
    "sakiniu_skaicius = len(list(doc.sents))\n",
    "print(sakiniu_skaicius)"
   ]
  },
  {
   "cell_type": "markdown",
   "metadata": {},
   "source": [
    "#### 4. Kiek sakinių yra tekste?\n",
    "Apskaičiuokite naudodamiesi NLTK biblioteka"
   ]
  },
  {
   "cell_type": "code",
   "execution_count": 5,
   "metadata": {},
   "outputs": [
    {
     "name": "stdout",
     "output_type": "stream",
     "text": [
      "5\n"
     ]
    },
    {
     "name": "stderr",
     "output_type": "stream",
     "text": [
      "[nltk_data] Error loading punkt_tab: <urlopen error TLS/SSL connection\n",
      "[nltk_data]     has been closed (EOF) (_ssl.c:1135)>\n"
     ]
    }
   ],
   "source": [
    "import nltk\n",
    "from nltk.tokenize import sent_tokenize\n",
    "nltk.download('punkt_tab')\n",
    "sakiniai = sent_tokenize(tekstas)\n",
    "sakiniu_skaicius = len(sakiniai)\n",
    "print(sakiniu_skaicius)"
   ]
  },
  {
   "cell_type": "markdown",
   "metadata": {},
   "source": [
    "#### 5. Atspausdinkite ketvirtą pateikto teksto sakinį"
   ]
  },
  {
   "cell_type": "code",
   "execution_count": 44,
   "metadata": {},
   "outputs": [
    {
     "name": "stdout",
     "output_type": "stream",
     "text": [
      "Scientific development and the expanding relations with global research centres have contributed to the variety of research and studies at Vilnius University.\n"
     ]
    }
   ],
   "source": [
    "import spacy\n",
    "nlp = spacy.load('en_core_web_sm')\n",
    "doc = nlp(tekstas)\n",
    "sakiniu_sarasas = list(doc.sents)\n",
    "ketvirtas_sakinys = sakiniu_sarasas[3].text\n",
    "print(ketvirtas_sakinys)"
   ]
  },
  {
   "cell_type": "markdown",
   "metadata": {},
   "source": [
    "#### 6. Išskaidykite ketvirtą sakinį į žodžius ir skyrybos ženklus."
   ]
  },
  {
   "cell_type": "code",
   "execution_count": 45,
   "metadata": {
    "scrolled": true
   },
   "outputs": [
    {
     "name": "stdout",
     "output_type": "stream",
     "text": [
      "Scientific\n",
      "development\n",
      "and\n",
      "the\n",
      "expanding\n",
      "relations\n",
      "with\n",
      "global\n",
      "research\n",
      "centres\n",
      "have\n",
      "contributed\n",
      "to\n",
      "the\n",
      "variety\n",
      "of\n",
      "research\n",
      "and\n",
      "studies\n",
      "at\n",
      "Vilnius\n",
      "University\n",
      ".\n"
     ]
    }
   ],
   "source": [
    "import spacy\n",
    "nlp = spacy.load('en_core_web_sm')\n",
    "doc = nlp(tekstas)\n",
    "sakiniu_sarasas = list(doc.sents)\n",
    "ketvirtas_sakinys = sakiniu_sarasas[3]\n",
    "for token in ketvirtas_sakinys:\n",
    "    print(token)"
   ]
  },
  {
   "cell_type": "markdown",
   "metadata": {},
   "source": [
    "# Pagrindinės žodžio formos nustatymas"
   ]
  },
  {
   "cell_type": "markdown",
   "metadata": {},
   "source": [
    "#### 7. Ketvirto sakinio žodžiams nustatykite pagrindines formas "
   ]
  },
  {
   "cell_type": "code",
   "execution_count": 64,
   "metadata": {},
   "outputs": [
    {
     "name": "stdout",
     "output_type": "stream",
     "text": [
      "Scientific   scientific\n",
      "development   development\n",
      "and   and\n",
      "the   the\n",
      "expanding   expand\n",
      "relations   relation\n",
      "with   with\n",
      "global   global\n",
      "research   research\n",
      "centres   centre\n",
      "have   have\n",
      "contributed   contribute\n",
      "to   to\n",
      "the   the\n",
      "variety   variety\n",
      "of   of\n",
      "research   research\n",
      "and   and\n",
      "studies   study\n",
      "at   at\n",
      "Vilnius   Vilnius\n",
      "University   University\n",
      ".   .\n"
     ]
    }
   ],
   "source": [
    "import spacy\n",
    "nlp = spacy.load('en_core_web_sm')\n",
    "doc = nlp(tekstas)\n",
    "sakiniu_sarasas = list(doc.sents)\n",
    "ketvirtas_sakinys = sakiniu_sarasas[3]\n",
    "for token in ketvirtas_sakinys:\n",
    "    print(token.text+ \"   \"+ token.lemma_)"
   ]
  },
  {
   "cell_type": "markdown",
   "metadata": {},
   "source": [
    "## Žodžių kamienų išskyrimas"
   ]
  },
  {
   "cell_type": "markdown",
   "metadata": {},
   "source": [
    "#### 8. Ketvirto sakinio žodžiams išskirkite kamienus¶"
   ]
  },
  {
   "cell_type": "code",
   "execution_count": 74,
   "metadata": {},
   "outputs": [
    {
     "name": "stdout",
     "output_type": "stream",
     "text": [
      "Scientific   scientif\n",
      "development   develop\n",
      "and   and\n",
      "the   the\n",
      "expanding   expand\n",
      "relations   relat\n",
      "with   with\n",
      "global   global\n",
      "research   research\n",
      "centres   centr\n",
      "have   have\n",
      "contributed   contribut\n",
      "to   to\n",
      "the   the\n",
      "variety   varieti\n",
      "of   of\n",
      "research   research\n",
      "and   and\n",
      "studies   studi\n",
      "at   at\n",
      "Vilnius   vilnius\n",
      "University   univers\n",
      ".   .\n"
     ]
    }
   ],
   "source": [
    "import spacy\n",
    "from nltk.stem.snowball import SnowballStemmer\n",
    "nlp = spacy.load('en_core_web_sm')\n",
    "s_stemmer = SnowballStemmer(language='english')\n",
    "doc = nlp(tekstas)\n",
    "sakiniu_sarasas = list(doc.sents)\n",
    "ketvirtas_sakinys = sakiniu_sarasas[3]\n",
    "for token in ketvirtas_sakinys:\n",
    "    token_text = token.text\n",
    "    stemmed_text = s_stemmer.stem(token_text)\n",
    "    print(token_text+ \"   \" + stemmed_text)"
   ]
  },
  {
   "cell_type": "markdown",
   "metadata": {},
   "source": [
    "#### 9. Iš turimo teksto pašalinkite nereikšmingus žodžius (angl. stop words) is skyrybos ženklus"
   ]
  },
  {
   "cell_type": "code",
   "execution_count": 7,
   "metadata": {},
   "outputs": [
    {
     "name": "stdout",
     "output_type": "stream",
     "text": [
      "Welcome Vilnius University oldest largest Lithuanian higher education institution establishment 16th century Vilnius University integral European science culture embodied concept­ classical university unity studies research Vilnius University active participant international scientific academic activities boasts prominent scientists professors graduates Scientific development expanding relations global research centres contributed variety research studies Vilnius University support social partners university educates globally minded specialists successfully integrate modern European community "
     ]
    }
   ],
   "source": [
    "import spacy\n",
    "nlp = spacy.load('en_core_web_sm')\n",
    "doc = nlp(tekstas)\n",
    "sakiniu_sarasas = list(doc.sents)\n",
    "for token in doc:\n",
    "    if not token.is_stop and not token.is_punct:\n",
    "         print(token, end=\" \")"
   ]
  },
  {
   "cell_type": "markdown",
   "metadata": {},
   "source": [
    "# Darbas su lietuvišku tekstu"
   ]
  },
  {
   "cell_type": "code",
   "execution_count": 2,
   "metadata": {},
   "outputs": [],
   "source": [
    "tekstas2=\"Vilniaus universitetas (VU) – pirmasis ir didžiausias Lietuvos universitetas, įsikūręs šalies sostinėje Vilniuje ir turintis po padalinį Kaune ir Šiauliuose. Įkurtas 1579 m. VU yra šalies lyderis absoliučioje daugumoje mokslo ir studijų krypčių. Būdamas viena seniausių ir žymiausių Vidurio ir Rytų Europos aukštųjų mokyklų, VU darė didelę įtaką ne tik Lietuvos, bet ir kaimyninių šalių kultūriniam gyvenimui, išugdė ne vieną mokslininkų, poetų, kultūros veikėjų kartą. VU profesoriavo ir mokėsi daug garsių asmenybių: medikai vokiečiai Johanas Frankas ir jo sūnus Jozefas Frankas, istorikas Joachimas Lelevelis, poetai Adomas Mickevičius ir Julius Slovackis, istorikas Simonas Daukantas, rašytojas, poetas ir literatūros mokslininkas Česlovas Milošas. VU įkurtas sklindant renesanso, reformacijos ir katalikiškosios reformos idėjoms. Už VU anksčiau Europoje įkurti tik Prahos, Krokuvos, Pečo, Budapešto, Bratislavos ir Karaliaučiaus universitetai.\""
   ]
  },
  {
   "cell_type": "markdown",
   "metadata": {},
   "source": [
    "#### 10. Išskaidykite pirmąjį sakinį į žodžius ir skyrybos ženklus."
   ]
  },
  {
   "cell_type": "code",
   "execution_count": 23,
   "metadata": {},
   "outputs": [
    {
     "name": "stdout",
     "output_type": "stream",
     "text": [
      "Vilniaus\n",
      "universitetas\n",
      "(\n",
      "VU\n",
      ")\n",
      "–\n",
      "pirmasis\n",
      "ir\n",
      "didžiausias\n",
      "Lietuvos\n",
      "universitetas\n",
      ",\n",
      "įsikūręs\n",
      "šalies\n",
      "sostinėje\n",
      "Vilniuje\n",
      "ir\n",
      "turintis\n",
      "po\n",
      "padalinį\n",
      "Kaune\n",
      "ir\n",
      "Šiauliuose\n",
      ".\n"
     ]
    }
   ],
   "source": [
    "import spacy\n",
    "\n",
    "nlp = spacy.load(\"lt_core_news_sm\")\n",
    "doc = nlp(tekstas2)\n",
    "pirmas_sakinys = list(doc.sents)[0]\n",
    "for token in pirmas_sakinys:\n",
    "    print(token.text)"
   ]
  },
  {
   "cell_type": "markdown",
   "metadata": {},
   "source": [
    "#### 11. Penktojo sakinio žodžiams nustatykite pagrindines formas"
   ]
  },
  {
   "cell_type": "code",
   "execution_count": 3,
   "metadata": {},
   "outputs": [
    {
     "name": "stdout",
     "output_type": "stream",
     "text": [
      "ir ir\n",
      "jo jis\n",
      "sūnus sūnus\n",
      "Jozefas Jozefas\n",
      "Frankas Frankas\n",
      ", ,\n",
      "istorikas istorikas\n",
      "Joachimas Joachimas\n",
      "Lelevelis Lelevelis\n",
      ", ,\n",
      "poetai poetai\n",
      "Adomas Adomas\n",
      "Mickevičius Mickevičius\n",
      "ir ir\n",
      "Julius Julius\n",
      "Slovackis Slovackis\n",
      ", ,\n",
      "istorikas istorikas\n",
      "Simonas Simonas\n",
      "Daukantas Daukantas\n",
      ", ,\n",
      "rašytojas rašytojas\n",
      ", ,\n",
      "poetas poetas\n",
      "ir ir\n",
      "literatūros literatūra\n",
      "mokslininkas mokslininkas\n",
      "Česlovas Česlovas\n",
      "Milošas Milošas\n",
      ". .\n"
     ]
    }
   ],
   "source": [
    "import spacy\n",
    "\n",
    "nlp = spacy.load(\"lt_core_news_sm\")\n",
    "doc = nlp(tekstas2)\n",
    "penktas_sakinys = list(doc.sents)[4]\n",
    "\n",
    "for token in penktas_sakinys:\n",
    "    print(token.text, token.lemma_)"
   ]
  },
  {
   "cell_type": "markdown",
   "metadata": {},
   "source": [
    "#### 12. Iš turimo teksto pašalinkite nereikšmingus žodžius (angl. stop words) is skyrybos ženkus"
   ]
  },
  {
   "cell_type": "code",
   "execution_count": 21,
   "metadata": {},
   "outputs": [
    {
     "name": "stdout",
     "output_type": "stream",
     "text": [
      "Vilniaus universitetas VU pirmasis didžiausias Lietuvos universitetas įsikūręs šalies sostinėje Vilniuje turintis padalinį Kaune Šiauliuose Įkurtas 1579 m VU yra šalies lyderis absoliučioje daugumoje mokslo studijų krypčių Būdamas viena seniausių žymiausių Vidurio Rytų Europos aukštųjų mokyklų VU darė didelę įtaką Lietuvos kaimyninių šalių kultūriniam gyvenimui išugdė vieną mokslininkų poetų kultūros veikėjų kartą VU profesoriavo mokėsi daug garsių asmenybių medikai vokiečiai Johanas Frankas sūnus Jozefas Frankas istorikas Joachimas Lelevelis poetai Adomas Mickevičius Julius Slovackis istorikas Simonas Daukantas rašytojas poetas literatūros mokslininkas Česlovas Milošas VU įkurtas sklindant renesanso reformacijos katalikiškosios reformos idėjoms VU anksčiau Europoje įkurti Prahos Krokuvos Pečo Budapešto Bratislavos Karaliaučiaus universitetai "
     ]
    }
   ],
   "source": [
    "import spacy\n",
    "\n",
    "nlp = spacy.load(\"lt_core_news_sm\")\n",
    "doc = nlp(tekstas2)\n",
    "\n",
    "for token in doc:\n",
    "    if not token.is_stop and not token.is_punct:\n",
    "        print(token.text, end=\" \")"
   ]
  }
 ],
 "metadata": {
  "kernelspec": {
   "display_name": "Python 3 (ipykernel)",
   "language": "python",
   "name": "python3"
  },
  "language_info": {
   "codemirror_mode": {
    "name": "ipython",
    "version": 3
   },
   "file_extension": ".py",
   "mimetype": "text/x-python",
   "name": "python",
   "nbconvert_exporter": "python",
   "pygments_lexer": "ipython3",
   "version": "3.8.19"
  }
 },
 "nbformat": 4,
 "nbformat_minor": 2
}
